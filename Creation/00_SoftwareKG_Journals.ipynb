{
 "cells": [
  {
   "cell_type": "code",
   "execution_count": null,
   "metadata": {},
   "outputs": [],
   "source": [
    "import csv\n",
    "import re\n",
    "\n",
    "from collections import Counter\n",
    "\n",
    "from rdflib import Graph, plugin, URIRef, Literal\n",
    "from rdflib.serializer import Serializer\n",
    "from rdflib.namespace import XSD, RDF, RDFS"
   ]
  },
  {
   "cell_type": "code",
   "execution_count": null,
   "metadata": {},
   "outputs": [],
   "source": [
    "base_path = '/mnt/storage1/docker/files/'\n",
    "article_file = 'PMCArticleData.csv'\n",
    "scimago_file = 'ScimagoData.csv'\n",
    "citation_file = 'CitationData.csv'\n",
    "pmc_mapping_file = 'pmc_pm_map.csv'"
   ]
  },
  {
   "cell_type": "markdown",
   "metadata": {},
   "source": [
    "PMCArticleData.csv, ScimagoData.csv and CitationData.csv were created by downloading the corresponding data (A01_Articles, B14_Scimago, C04_ReferenceList) from http://er.tacc.utexas.edu/datasets/ped, importing them in a local MySQL database and exporting them as csv with:\n",
    "\n",
    "SELECT field_of_interest_1, field_of_interst_2\n",
    "INTO OUTFILE 'base_path/filename'\n",
    "FIELDS TERMINATED BY ','\n",
    "ENCLOSED BY '\"'\n",
    "LINES TERMINATED BY '\\n'\n",
    "FROM table;\n",
    "\n",
    "Article Data was filtered to only contain articles from our PMC OA data based on the IDs in our corpus and with the PMCID to PMID mapping available from https://www.ncbi.nlm.nih.gov/pmc/pmctopmid/"
   ]
  },
  {
   "cell_type": "markdown",
   "metadata": {},
   "source": [
    "Get information on articles"
   ]
  },
  {
   "cell_type": "code",
   "execution_count": null,
   "metadata": {},
   "outputs": [],
   "source": [
    "articles = []\n",
    "with open(base_path + article_file, 'r') as a_in:\n",
    "    read = csv.reader(a_in, delimiter=',', quotechar='\"', escapechar='\\\\')\n",
    "    for row in read:\n",
    "        if len(row) != 7:\n",
    "            print(row)\n",
    "            break\n",
    "        else:\n",
    "            articles.append(row)"
   ]
  },
  {
   "cell_type": "markdown",
   "metadata": {},
   "source": [
    "Get information on journals"
   ]
  },
  {
   "cell_type": "code",
   "execution_count": null,
   "metadata": {},
   "outputs": [],
   "source": [
    "scimago_title_index = {}\n",
    "scimago_issn_index = {}\n",
    "scimago_index = {}\n",
    "count = 0\n",
    "with open(base_path + scimago_file, 'r') as a_in:\n",
    "    read = csv.reader(a_in, delimiter=',', quotechar='\"', escapechar='\\\\')\n",
    "    for row in read:\n",
    "        if len(row) != 13:\n",
    "            print(row)\n",
    "            break\n",
    "        else:\n",
    "            eissn = row[4].rstrip().lstrip()\n",
    "            pissn = row[5].rstrip().lstrip()\n",
    "            title = row[2].lower().replace('&', 'and').lstrip().rstrip()\n",
    "            source_id = row[1].strip()\n",
    "            \n",
    "            if eissn:\n",
    "                scimago_issn_index[eissn] = source_id\n",
    "            if pissn:\n",
    "                scimago_issn_index[pissn] = source_id\n",
    "            if title:\n",
    "                scimago_title_index[title] = source_id\n",
    "            \n",
    "            if source_id not in scimago_index: \n",
    "                scimago_index[source_id] = {\n",
    "                    'eissn': eissn,\n",
    "                    'pissn': pissn,\n",
    "                    'title': row[2],\n",
    "                    'years': {}\n",
    "                }\n",
    "            else:\n",
    "                if row[2] != scimago_index[source_id]['title']:\n",
    "                    pass\n",
    "                    #print(\"Found two differnt titles for {} and {}\".format(row[2], scimago_index[source_id]['title']))\n",
    "                \n",
    "            scimago_index[source_id]['years'][row[-1]] = {\n",
    "                'Rank': row[6],\n",
    "                'Quartile': row[7],\n",
    "                'Hindex': row[8],\n",
    "                'Country': row[9],\n",
    "                'Publisher': row[10], \n",
    "                'Domains': {}\n",
    "            }\n",
    "            for domain in row[11].split('; '):\n",
    "                if re.search(r'\\d{4}', domain):\n",
    "                    scimago_index[source_id]['years'][row[-1]]['Domains']['WEIRD'] = 'None'\n",
    "                elif domain.strip():\n",
    "                    if '(Q' in domain:\n",
    "                        d, q = domain.rstrip(')').rsplit('(', maxsplit=1)\n",
    "                        scimago_index[source_id]['years'][row[-1]]['Domains'][d.rstrip()] = q.strip()\n",
    "                    else:\n",
    "                        scimago_index[source_id]['years'][row[-1]]['Domains'][domain.rstrip()] = 'None' \n",
    "            "
   ]
  },
  {
   "cell_type": "code",
   "execution_count": null,
   "metadata": {},
   "outputs": [],
   "source": [
    "for idx, (k,v) in enumerate(scimago_index.items()):\n",
    "    categories = Counter()\n",
    "    publishers = Counter()\n",
    "    hindices = Counter()\n",
    "    for year in v['years']:\n",
    "        publisher = v['years'][year].pop('Publisher')\n",
    "        category = v['years'][year].pop('Domains')\n",
    "        hindex = v['years'][year].pop('Hindex')\n",
    "        v['years'][year].pop('Country')\n",
    "        \n",
    "        if not 'WEIRD' in category:\n",
    "            publishers[publisher] += 1\n",
    "            hindices[hindex] += 1\n",
    "            for c in category:\n",
    "                categories[c] += 1\n",
    "        elif len(v['years']) == 1:\n",
    "            pass\n",
    "            \n",
    "    if len(publishers) > 0:\n",
    "        v['Publisher'] = publishers.most_common(1)[0][0]\n",
    "    if len(hindices) > 0:\n",
    "        v['Hindex'] = hindices.most_common(1)[0][0]\n",
    "    if len(categories) > 0:\n",
    "        v['categories'] = []\n",
    "        for c_k in categories:\n",
    "            v['categories'].append(c_k)\n",
    "    v['id'] = idx"
   ]
  },
  {
   "cell_type": "code",
   "execution_count": null,
   "metadata": {},
   "outputs": [],
   "source": [
    "title_matches = 0\n",
    "issn_matches = 0\n",
    "years = {}\n",
    "source_ids = set()\n",
    "matches = []\n",
    "for idx, article in enumerate(articles):\n",
    "    issn = article[-2].replace('-', '').rstrip().lstrip()\n",
    "    match = ''\n",
    "    if issn:\n",
    "        if issn in scimago_issn_index:\n",
    "            issn_matches += 1\n",
    "            match = scimago_issn_index[issn]\n",
    "        else:\n",
    "            j_title = article[4].lower().replace('&', 'and')\n",
    "            if j_title in scimago_title_index:\n",
    "                title_matches += 1\n",
    "                match = scimago_title_index[j_title]\n",
    "            else:\n",
    "                if article[3] not in years:\n",
    "                    years[article[3]] = 0\n",
    "                years[article[3]] += 1\n",
    "    if match:\n",
    "        matches.append([idx, article[0], match])\n",
    "        source_ids.update([match])\n",
    "print(issn_matches)\n",
    "print(title_matches)"
   ]
  },
  {
   "cell_type": "code",
   "execution_count": null,
   "metadata": {},
   "outputs": [],
   "source": [
    "source_id_mapping = {}\n",
    "for x in source_ids:\n",
    "    source_id_mapping[x] = len(source_id_mapping)"
   ]
  },
  {
   "cell_type": "code",
   "execution_count": null,
   "metadata": {},
   "outputs": [],
   "source": [
    "years = {}\n",
    "domains = {}\n",
    "publishers = {}\n",
    "for s_id in source_ids:\n",
    "    entry = scimago_index[s_id]\n",
    "    if 'Publisher' in entry:\n",
    "        if entry['Publisher'] not in publishers:\n",
    "            publishers[entry['Publisher']] = 0\n",
    "        publishers[entry['Publisher']] += 1\n",
    "    if 'categories' in entry:\n",
    "        for domain in entry['categories']:\n",
    "            if domain not in domains:\n",
    "                domains[domain] = 0\n",
    "            domains[domain] += 1\n",
    "    \n",
    "for idx, (k, v) in enumerate(domains.items()):\n",
    "    domains[k] = {\n",
    "        'num': v,\n",
    "        'id': idx\n",
    "    }\n",
    "for idx, (k, v) in enumerate(publishers.items()):\n",
    "    publishers[k] = {\n",
    "        'num': v,\n",
    "        'id': idx\n",
    "    }"
   ]
  },
  {
   "cell_type": "code",
   "execution_count": null,
   "metadata": {
    "scrolled": false
   },
   "outputs": [],
   "source": [
    "import json\n",
    "with open('domain_overview.json', 'w') as j_out:\n",
    "    json.dump(domains, j_out, indent=4)"
   ]
  },
  {
   "cell_type": "markdown",
   "metadata": {},
   "source": [
    "Writing the Graph"
   ]
  },
  {
   "cell_type": "code",
   "execution_count": null,
   "metadata": {},
   "outputs": [],
   "source": [
    "scimago_g = Graph()\n",
    "common_g = Graph()"
   ]
  },
  {
   "cell_type": "code",
   "execution_count": null,
   "metadata": {},
   "outputs": [],
   "source": [
    "for match in matches:\n",
    "    common_g.add((URIRef('skg:article/' + match[1]), URIRef(\"dct:isPartOf\"), URIRef('skg:journal/' + str(source_id_mapping[match[2]]))))"
   ]
  },
  {
   "cell_type": "code",
   "execution_count": null,
   "metadata": {},
   "outputs": [],
   "source": [
    "for domain, v_domain in domains.items():\n",
    "    domain_name = 'skg:domain/' + str(v_domain['id'])\n",
    "    scimago_g.add((URIRef(domain_name), RDF.type, URIRef(\"skos:Concept\")))\n",
    "    scimago_g.add((URIRef(domain_name), URIRef('schema:name'), Literal(domain, datatype=XSD.string)))"
   ]
  },
  {
   "cell_type": "code",
   "execution_count": null,
   "metadata": {},
   "outputs": [],
   "source": [
    "for publisher, v_publisher in publishers.items():\n",
    "    publisher_name = 'skg:publisher/' + str(v_publisher['id'])\n",
    "    common_g.add((URIRef(publisher_name), RDF.type, URIRef(\"schema:Organization\")))\n",
    "    common_g.add((URIRef(publisher_name), URIRef('schema:name'), Literal(publisher, datatype=XSD.string)))"
   ]
  },
  {
   "cell_type": "code",
   "execution_count": null,
   "metadata": {},
   "outputs": [],
   "source": [
    "add_info_count = 0\n",
    "for s_id in source_ids:\n",
    "    journal_id = source_id_mapping[s_id]\n",
    "    entry = scimago_index[s_id]\n",
    "    journal_name = 'skg:journal/' + str(journal_id)\n",
    "    \n",
    "    # Common entries\n",
    "    common_g.add((URIRef(journal_name), RDF.type, URIRef('bibo:Journal')))\n",
    "    common_g.add((URIRef(journal_name), URIRef('schema:sameAs'), URIRef('skg:scimago/' + s_id)))\n",
    "    if entry['eissn'].strip():\n",
    "        common_g.add((URIRef(journal_name), URIRef('bibo:eissn'), Literal(entry['eissn'])))\n",
    "    if entry['pissn'].strip():\n",
    "        common_g.add((URIRef(journal_name), URIRef('bibo:issn'), Literal(entry['pissn'])))\n",
    "    common_g.add((URIRef(journal_name), URIRef('schema:name'), Literal(entry['title'])))\n",
    "    if 'Publisher' in entry:\n",
    "        j_y_publisher_name = \"skg:publisher/\" + str(publishers[entry['Publisher']]['id'])\n",
    "        common_g.add((URIRef(journal_name), URIRef(\"dct:publisher\"), URIRef(j_y_publisher_name)))\n",
    "    \n",
    "    # Scimago entries\n",
    "    if 'Hindex' in entry:\n",
    "        scimago_g.add((URIRef(journal_name), URIRef(\"skgv:H-Index\"), Literal(int(entry['Hindex']), datatype=XSD.nonNegativeInteger)))\n",
    "\n",
    "    if 'categories' in entry:\n",
    "        for domain in entry['categories']:\n",
    "            domain_id = 'skg:domain/' + str(domains[domain]['id'])\n",
    "            scimago_g.add((URIRef(journal_name), URIRef('dct:subject'), URIRef(domain_id)))\n",
    "    \n",
    "    for year, v_year in entry['years'].items():\n",
    "        #print(entry)\n",
    "        if '-' in v_year['Quartile'] and ( not v_year['Rank'] or float(v_year['Rank']) == 0 ):\n",
    "            continue\n",
    "        add_info_name = 'skg:journalInformation/' + str(add_info_count)\n",
    "        add_info_count += 1\n",
    "        scimago_g.add((URIRef(journal_name), URIRef(\"skgv:hasJournalInformation\"), URIRef(add_info_name)))\n",
    "        scimago_g.add((URIRef(add_info_name), RDF.type, URIRef(\"skgv:JournalInformation\")))\n",
    "        scimago_g.add((URIRef(add_info_name), URIRef(\"dct:date\"), Literal(year, datatype=XSD.date)))\n",
    "        if v_year['Rank'] and float(v_year['Rank']) != 0:\n",
    "            scimago_g.add((URIRef(add_info_name), URIRef(\"skgv:rank\"), Literal(float(v_year['Rank']), datatype=XSD.float)))\n",
    "        if not '-' in v_year['Quartile']:\n",
    "            scimago_g.add((URIRef(add_info_name), URIRef(\"skgv:bestQuartile\"), Literal(int(v_year['Quartile'].split('Q')[-1]), datatype=XSD.nonNegativeInteger)))\n",
    "        "
   ]
  },
  {
   "cell_type": "code",
   "execution_count": null,
   "metadata": {},
   "outputs": [],
   "source": [
    "context = {\n",
    "    \"bibo\": \"http://purl.org/ontology/bibo/\",\n",
    "    \"skos\": \"http://www.w3.org/2004/02/skos/core#\",\n",
    "    \"dct\": \"http://purl.org/dc/terms/\",\n",
    "    \"schema\" : \"http://schema.org/\",\n",
    "    \"rdf\" : \"http://www.w3.org/1999/02/22-rdf-syntax-ns#\",   \n",
    "    \"skg\": \"http://data.gesis.org/softwarekg/PMC/\",\n",
    "    \"skgv\": \"http://data.gesis.org/softwarekg/vocab/\"\n",
    "}\n",
    "\n",
    "common_g.serialize(format=\"json-ld\", context=context, destination=\"common_g_out.jsonld\")\n",
    "scimago_g.serialize(format=\"json-ld\", context=context, destination=\"scimago_g_out.jsonld\")"
   ]
  },
  {
   "cell_type": "markdown",
   "metadata": {},
   "source": [
    "# Citations"
   ]
  },
  {
   "cell_type": "code",
   "execution_count": null,
   "metadata": {},
   "outputs": [],
   "source": [
    "citations = []\n",
    "with open(base_path + citation_file, 'r') as a_in:\n",
    "    read = csv.reader(a_in, delimiter=',', quotechar='\"', escapechar='\\\\')\n",
    "    for row in read:\n",
    "        if len(row) != 3:\n",
    "            print(row)\n",
    "            break\n",
    "        else:\n",
    "            citations.append(row)"
   ]
  },
  {
   "cell_type": "code",
   "execution_count": null,
   "metadata": {},
   "outputs": [],
   "source": [
    "pmc_pm_mapping = {}\n",
    "pm_pmc_map = {}\n",
    "with open(base_path + pmc_mapping_file, 'r') as a_in:\n",
    "    read = csv.reader(a_in, delimiter=',', quotechar='\"', escapechar='\\\\')\n",
    "    for row in read:\n",
    "        if len(row) != 2:\n",
    "            print(row)\n",
    "            break\n",
    "        else:\n",
    "            pmc_pm_mapping[row[0]] = {\n",
    "                'pm_id': row[1],\n",
    "                'cited_by_all': [],\n",
    "                'cited_by_pmc': []\n",
    "            }\n",
    "            if int(row[1]) != 0:\n",
    "                pm_pmc_map[row[1]] = row[0]"
   ]
  },
  {
   "cell_type": "code",
   "execution_count": null,
   "metadata": {},
   "outputs": [],
   "source": [
    "for citation in citations:\n",
    "    pmc_pm_mapping[citation[-1]]['cited_by_all'].append(citation[0])\n",
    "    if citation[0] in pm_pmc_map:\n",
    "        pmc_pm_mapping[citation[-1]]['cited_by_pmc'].append(pm_pmc_map[citation[0]])\n"
   ]
  },
  {
   "cell_type": "code",
   "execution_count": null,
   "metadata": {},
   "outputs": [],
   "source": [
    "import json\n",
    "with open('pmc_citation_count_mapping.json', 'w') as j_out:\n",
    "    json.dump(pmc_pm_mapping, j_out, indent=4)"
   ]
  },
  {
   "cell_type": "code",
   "execution_count": null,
   "metadata": {},
   "outputs": [],
   "source": [
    "citation_g = Graph()"
   ]
  },
  {
   "cell_type": "code",
   "execution_count": null,
   "metadata": {},
   "outputs": [],
   "source": [
    "for k,v in pmc_pm_mapping.items():\n",
    "    citation_g.add((URIRef('skg:article/' + k), URIRef(\"skgv:citationCount\"), Literal(len(v['cited_by_all']), datatype=XSD.nonNegativeInteger)))\n",
    "    for pmc_id in v['cited_by_pmc']:\n",
    "        citation_g.add((URIRef('skg:article/' + pmc_id), URIRef(\"schema:citation\"), URIRef('skg:article/' + k)))\n"
   ]
  },
  {
   "cell_type": "code",
   "execution_count": null,
   "metadata": {},
   "outputs": [],
   "source": [
    "citation_g.serialize(format=\"json-ld\", context=context, destination=\"citation_g_out.jsonld\")"
   ]
  }
 ],
 "metadata": {
  "kernelspec": {
   "display_name": "SciBERT",
   "language": "python",
   "name": "scibert"
  },
  "language_info": {
   "codemirror_mode": {
    "name": "ipython",
    "version": 3
   },
   "file_extension": ".py",
   "mimetype": "text/x-python",
   "name": "python",
   "nbconvert_exporter": "python",
   "pygments_lexer": "ipython3",
   "version": "3.8.5"
  }
 },
 "nbformat": 4,
 "nbformat_minor": 2
}
