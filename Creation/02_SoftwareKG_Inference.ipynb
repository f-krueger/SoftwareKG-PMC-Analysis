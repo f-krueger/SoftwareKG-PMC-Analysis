{
 "cells": [
  {
   "cell_type": "markdown",
   "metadata": {},
   "source": [
    "# SoftwareKG2: Confidence Computation for Reification Statements"
   ]
  },
  {
   "cell_type": "code",
   "execution_count": null,
   "metadata": {},
   "outputs": [],
   "source": [
    "import os\n",
    "import datetime\n",
    "from lxml import etree\n",
    "import time"
   ]
  },
  {
   "cell_type": "code",
   "execution_count": null,
   "metadata": {},
   "outputs": [],
   "source": [
    "from rdflib import Graph, plugin, URIRef, Literal\n",
    "from rdflib.serializer import Serializer\n",
    "from rdflib.namespace import XSD, RDF, RDFS"
   ]
  },
  {
   "cell_type": "markdown",
   "metadata": {},
   "source": [
    "## Setup and check"
   ]
  },
  {
   "cell_type": "code",
   "execution_count": null,
   "metadata": {},
   "outputs": [],
   "source": [
    "# Issue a query\n",
    "\n",
    "from SPARQLWrapper import SPARQLWrapper, JSON\n",
    "\n",
    "endpoint = 'http://your.endpoint.here:8890/sparql'\n",
    "\n",
    "def exec_query(query):\n",
    "    sparql = SPARQLWrapper(endpoint)\n",
    "    sparql.setQuery(query)\n",
    "    sparql.setReturnFormat(JSON)\n",
    "    results = sparql.query().convert()\n",
    "    return results\n",
    "\n",
    "\n"
   ]
  },
  {
   "cell_type": "code",
   "execution_count": null,
   "metadata": {},
   "outputs": [],
   "source": [
    "# Context information for serialisation\n",
    "context = {\n",
    "        \"schema\" : \"http://schema.org/\",\n",
    "        \"sms\" : \"http://data.gesis.org/somesci/\",\n",
    "        \"nif\" : \"http://persistence.uni-leipzig.org/nlp2rdf/ontologies/nif-core#\",\n",
    "        \"wd\" : \"http://www.wikidata.org/entity/\",\n",
    "        \"xsd\": \"http://www.w3.org/2001/XMLSchema#\",\n",
    "        \"rdfs\": \"http://www.w3.org/2000/01/rdf-schema#\",\n",
    "        \"comment\": \"http://www.w3.org/2000/01/rdf-schema#comment\",\n",
    "        \"datacite\" : \"http://purl.org/spar/datacite/\",\n",
    "        \"rdf\" : \"http://www.w3.org/1999/02/22-rdf-syntax-ns#\",\n",
    "        \"doi\" : \"https://doi.org/\",\n",
    "        \"dct\" : \"http://purl.org/dc/terms/\",\n",
    "        \"dbpedia-owl\" : \"http://dbpedia.org/ontology/\",\n",
    "        \"skgv\" : \"http://data.gesis.org/softwarekg/vocab/\",\n",
    "        \"skg\" : \"http://data.gesis.org/softwarekg/PMC/\",\n",
    "        \"irao\" : \"http://ontology.ethereal.cz/irao/\"\n",
    "}"
   ]
  },
  {
   "cell_type": "code",
   "execution_count": null,
   "metadata": {},
   "outputs": [],
   "source": [
    "# Test query...\n",
    "qres = exec_query('SELECT (COUNT (*) as ?num) WHERE {?a ?p ?b}')\n"
   ]
  },
  {
   "cell_type": "code",
   "execution_count": null,
   "metadata": {},
   "outputs": [],
   "source": [
    "# ... and results\n",
    "for result in qres[\"results\"][\"bindings\"]:\n",
    "    print(result[\"num\"][\"value\"])\n"
   ]
  },
  {
   "cell_type": "markdown",
   "metadata": {},
   "source": [
    "## Utilities"
   ]
  },
  {
   "cell_type": "code",
   "execution_count": null,
   "metadata": {},
   "outputs": [],
   "source": [
    "# Helper function for confidence computation\n",
    "def build_table(query,leapsize,value_names):\n",
    "    table = []\n",
    "    offset = 0\n",
    "    limit = leapsize\n",
    "    modified_query = query.replace('{offset}',str(offset)).replace('{limit}',str(limit))\n",
    "    result = exec_query(modified_query)\n",
    "\n",
    "    while(len(result[\"results\"][\"bindings\"]) > 0):\n",
    "        for r in result[\"results\"][\"bindings\"]:\n",
    "            row = []\n",
    "            for name in value_names:\n",
    "                row.append(r[name]['value'])\n",
    "            table.append(row)\n",
    "            \n",
    "        offset+=leapsize\n",
    "        modified_query = query.replace('{offset}',str(offset)).replace('{limit}',str(limit))\n",
    "        result = exec_query(modified_query)\n",
    "    table  = sorted(table)\n",
    "    return table\n"
   ]
  },
  {
   "cell_type": "code",
   "execution_count": null,
   "metadata": {},
   "outputs": [],
   "source": [
    "# Helper function for confidence computation\n",
    "def remove_column_in_table(table,indexes):\n",
    "    sorted_indexes = sorted(indexes,reverse = True)\n",
    "    new_table = []\n",
    "    for row in table:\n",
    "        r = row.copy()\n",
    "        for idx in sorted_indexes:\n",
    "            del(r[idx])\n",
    "        new_table.append(r)\n",
    "    return new_table"
   ]
  },
  {
   "cell_type": "code",
   "execution_count": null,
   "metadata": {},
   "outputs": [],
   "source": [
    "# Helper function for confidence computation\n",
    "def compare(row1, row2, indexes1, indexes2):\n",
    "    for cmp_idx in range(len(indexes1)):\n",
    "        idx1 = indexes1[cmp_idx]\n",
    "        idx2 = indexes2[cmp_idx]\n",
    "        if not row1[idx1]==row2[idx2]:\n",
    "            return False\n",
    "    return True"
   ]
  },
  {
   "cell_type": "code",
   "execution_count": null,
   "metadata": {},
   "outputs": [],
   "source": [
    "# Helper function for confidence computation\n",
    "def outer_join(t1, t2, indexes1, indexes2):\n",
    "    t3 = []\n",
    "    start_idx=0\n",
    "    for i1 in range(len(t1)):\n",
    "        row= t1[i1].copy()\n",
    "        for i2 in range(start_idx,len(t2)):\n",
    "            start_idx=i2\n",
    "            if compare(t1[i1],t2[i2],indexes1, indexes2):\n",
    "                for i in range(len(t2[0])):\n",
    "                    if not i in indexes2:\n",
    "                        row.append(t2[i2][i])\n",
    "                break\n",
    "        t3.append(row)\n",
    "    return t3"
   ]
  },
  {
   "cell_type": "code",
   "execution_count": null,
   "metadata": {},
   "outputs": [],
   "source": [
    "# Main function for computing confidence values\n",
    "# Creates a table with [software, object, confidence score] for rows\n",
    "\n",
    "def workflow(table1,table2,table3):\n",
    "    table4 = outer_join(table1, table2, [0,1],[0,1])\n",
    "    # document, software, spelling, v1, v2\n",
    "    \n",
    "    # Remove document\n",
    "    table5 = remove_column_in_table(table4,[0])\n",
    "    # software, spelling, v1, v2\n",
    "\n",
    "    # Join with table 3\n",
    "    # Re-sort by software\n",
    "    table5 = sorted(table5)\n",
    "\n",
    "    \n",
    "    # Join over software\n",
    "    table6 = outer_join(table5, table3, [0], [0])\n",
    "    # software, spelling, v1, v2, v3\n",
    "      \n",
    "    # Division bzw. confidence per document\n",
    "    table7 = []\n",
    "    for row in table6:\n",
    "        quotient = float(row[2]) / float(row[3])\n",
    "        nrow = row.copy()\n",
    "        nrow.append(quotient)\n",
    "        table7.append(nrow)\n",
    "     # software, spelling, v1, v2, v3, quotient  \n",
    "    \n",
    "\n",
    "    # Remove v1, v2 columns\n",
    "    table8 = remove_column_in_table(table7,[3,2])\n",
    "    # software, spelling, v3, quotient  \n",
    "\n",
    "    # Sum aggregate\n",
    "    table8 = sorted(table8)\n",
    "    table9 = []\n",
    "    currow = table8[0].copy()\n",
    "    currsum = table8[0][3]\n",
    "    for i in range(1,len(table8)):\n",
    "        row = table8[i]\n",
    "\n",
    "        if row[0] == currow[0] and row[1]==currow[1]:\n",
    "            currsum += row[3]\n",
    "        else:\n",
    "            currow.append(currsum)\n",
    "            table9.append(currow)\n",
    "            currsum = row[3]\n",
    "            currow = row.copy()\n",
    "    currow.append(currsum)\n",
    "    table9.append(currow)\n",
    "    # software, spelling, v3, quotient, sum of quotient\n",
    "\n",
    "    # Remove quotient column\n",
    "    table10 = remove_column_in_table(table9,[3])\n",
    "    # software, spelling, v3, sum of quotient\n",
    "    \n",
    "    # Division / sum / v3\n",
    "    table11 = []\n",
    "    for row in table10:\n",
    "        confidence = float(row[3]) / float(row[2])\n",
    "        nrow = row.copy()\n",
    "        nrow.append(confidence)\n",
    "        table11.append(nrow)\n",
    "    # software, spelling,  v3, sum of quotient, confidence  \n",
    "    \n",
    "    # Remove v3 and sum of quotient columns\n",
    "    table12= remove_column_in_table(table11,[3,2])\n",
    "    # software, spelling,  confidence\n",
    "    table4=None\n",
    "    table5=None\n",
    "    table6=None\n",
    "    table7=None\n",
    "    table8=None\n",
    "    table9=None\n",
    "    table10=None\n",
    "    table11=None\n",
    "    return table12\n",
    "    "
   ]
  },
  {
   "cell_type": "code",
   "execution_count": null,
   "metadata": {},
   "outputs": [],
   "source": [
    "# Initialize a graph object\n",
    "g=Graph()"
   ]
  },
  {
   "cell_type": "markdown",
   "metadata": {},
   "source": [
    "# SoftwareType confidence"
   ]
  },
  {
   "cell_type": "code",
   "execution_count": null,
   "metadata": {},
   "outputs": [],
   "source": [
    "q1='''\n",
    "PREFIX schema: <http://schema.org/>\n",
    "PREFIX nif: <http://persistence.uni-leipzig.org/nlp2rdf/ontologies/nif-core#>\n",
    "PREFIX skgv: <http://data.gesis.org/softwarekg/vocab/>\n",
    "\n",
    "SELECT ?document ?software ?type (COUNT(?type) as ?num_mention_per_type_per_software_per_document)\n",
    "WHERE\n",
    "{\n",
    "    ?mention skgv:software ?software .\n",
    "    ?mention skgv:softwareType ?type .\n",
    "    ?document schema:mentions ?mention .\n",
    "}\n",
    "GROUP BY ?document ?software ?type\n",
    "OFFSET {offset}\n",
    "LIMIT {limit}\n",
    "'''\n",
    "table1 = build_table(q1, 1_000_000, ['document','software','type',\n",
    "                                     'num_mention_per_type_per_software_per_document'])"
   ]
  },
  {
   "cell_type": "code",
   "execution_count": null,
   "metadata": {},
   "outputs": [],
   "source": [
    "q2=\"\"\"\n",
    "PREFIX schema: <http://schema.org/>\n",
    "PREFIX nif: <http://persistence.uni-leipzig.org/nlp2rdf/ontologies/nif-core#>\n",
    "PREFIX skgv: <http://data.gesis.org/softwarekg/vocab/>\n",
    "\n",
    "SELECT ?document ?software (COUNT(?software) AS ?num_mention_per_software_per_document)\n",
    "WHERE\n",
    "{\n",
    "    ?mention skgv:software ?software .\n",
    "    ?mention skgv:softwareType ?type .\n",
    "    ?document schema:mentions ?mention .\n",
    "}\n",
    "GROUP BY ?document ?software\n",
    "OFFSET {offset}\n",
    "LIMIT {limit}\n",
    "\"\"\"\n",
    "table2 = build_table(q2, 1_000_000, ['document','software', 'num_mention_per_software_per_document'])"
   ]
  },
  {
   "cell_type": "code",
   "execution_count": null,
   "metadata": {},
   "outputs": [],
   "source": [
    "q3=\"\"\"\n",
    "PREFIX schema: <http://schema.org/>\n",
    "PREFIX nif: <http://persistence.uni-leipzig.org/nlp2rdf/ontologies/nif-core#>\n",
    "PREFIX skgv: <http://data.gesis.org/softwarekg/vocab/>\n",
    "\n",
    "SELECT COUNT(DISTINCT ?document) as ?num_article_with_software ?software \n",
    "WHERE\n",
    "{\n",
    "    ?mention skgv:software ?software .\n",
    "    ?mention skgv:softwareType ?type .\n",
    "    ?document schema:mentions ?mention .\n",
    "}\n",
    "GROUP BY  ?software\n",
    "OFFSET {offset}\n",
    "LIMIT {limit}\n",
    "\"\"\"\n",
    "table3 = build_table(q3, 1_000_000, ['software','num_article_with_software'])"
   ]
  },
  {
   "cell_type": "code",
   "execution_count": null,
   "metadata": {},
   "outputs": [],
   "source": [
    "swtype_table = workflow(table1,table2,table3)"
   ]
  },
  {
   "cell_type": "code",
   "execution_count": null,
   "metadata": {},
   "outputs": [],
   "source": [
    "# Add statements with confidence value\n",
    "for idx, r in enumerate(swtype_table):\n",
    "    node = URIRef(\"skg:inference/softwareType/{}\".format(idx))\n",
    "    g.add((node, RDF.type, RDF.Statement))\n",
    "    g.add((node, RDF.subject, URIRef(r[0])))\n",
    "    g.add((node, RDF.predicate ,URIRef(\"skgv:softwareType\")))\n",
    "    g.add((node, RDF.object, URIRef(r[1])))\n",
    "    g.add((node, URIRef(\"skgv:confidence\"), Literal(r[2], datatype=XSD.float)))\n",
    "    if float(r[2]) < 1:\n",
    "        print(r)"
   ]
  },
  {
   "cell_type": "code",
   "execution_count": null,
   "metadata": {},
   "outputs": [],
   "source": [
    "# Serialize\n",
    "g.serialize(format=\"json-ld\", context=context, destination=\"softwarekg-sw-type-confidence.jsonld\")\n",
    "g = Graph()"
   ]
  },
  {
   "cell_type": "markdown",
   "metadata": {},
   "source": [
    "# PlugIns of host software"
   ]
  },
  {
   "cell_type": "code",
   "execution_count": null,
   "metadata": {},
   "outputs": [],
   "source": [
    "q1='''\n",
    "PREFIX schema: <http://schema.org/>\n",
    "PREFIX nif: <http://persistence.uni-leipzig.org/nlp2rdf/ontologies/nif-core#>\n",
    "PREFIX skgv: <http://data.gesis.org/softwarekg/vocab/>\n",
    "\n",
    "SELECT ?document ?software ?plugIn (COUNT(?plugIn) as ?num_mention_per_plugin_per_software_per_document)\n",
    "WHERE\n",
    "{\n",
    "    ?mention skgv:software ?software .\n",
    "    ?mention skgv:referredToByPlugIn ?plugInm .\n",
    "    ?plugInm skgv:software ?plugIn .\n",
    "    ?document schema:mentions ?mention .\n",
    "}\n",
    "GROUP BY ?document ?software ?plugIn\n",
    "OFFSET {offset}\n",
    "LIMIT {limit}\n",
    "'''\n",
    "table1 = build_table(q1, 1_000_000, ['document','software','plugIn',\n",
    "                                     'num_mention_per_plugin_per_software_per_document'])"
   ]
  },
  {
   "cell_type": "code",
   "execution_count": null,
   "metadata": {},
   "outputs": [],
   "source": [
    "q2=\"\"\"\n",
    "PREFIX schema: <http://schema.org/>\n",
    "PREFIX nif: <http://persistence.uni-leipzig.org/nlp2rdf/ontologies/nif-core#>\n",
    "PREFIX skgv: <http://data.gesis.org/softwarekg/vocab/>\n",
    "\n",
    "SELECT ?document ?software (COUNT(?software) AS ?num_mention_per_software_per_document)\n",
    "WHERE\n",
    "{\n",
    "    ?mention skgv:software ?software .\n",
    "    ?mention skgv:referredToByPlugIn ?anyPlugInm .\n",
    "    ?document schema:mentions ?mention .\n",
    "}\n",
    "GROUP BY ?document ?software\n",
    "OFFSET {offset}\n",
    "LIMIT {limit}\n",
    "\"\"\"\n",
    "table2 = build_table(q2, 1_000_000, ['document','software', 'num_mention_per_software_per_document'])"
   ]
  },
  {
   "cell_type": "code",
   "execution_count": null,
   "metadata": {},
   "outputs": [],
   "source": [
    "q3=\"\"\"\n",
    "PREFIX schema: <http://schema.org/>\n",
    "PREFIX nif: <http://persistence.uni-leipzig.org/nlp2rdf/ontologies/nif-core#>\n",
    "PREFIX skgv: <http://data.gesis.org/softwarekg/vocab/>\n",
    "\n",
    "SELECT COUNT(DISTINCT ?document) as ?num_article_with_software ?software \n",
    "WHERE\n",
    "{\n",
    "    ?mention skgv:software ?software .\n",
    "    ?mention skgv:referredToByPlugIn ?anyPlugInm .\n",
    "    ?document schema:mentions ?mention .\n",
    "}\n",
    "GROUP BY  ?software\n",
    "OFFSET {offset}\n",
    "LIMIT {limit}\n",
    "\"\"\"\n",
    "table3 = build_table(q3, 1_000_000, ['software','num_article_with_software'])"
   ]
  },
  {
   "cell_type": "code",
   "execution_count": null,
   "metadata": {},
   "outputs": [],
   "source": [
    "plugin_table = workflow(table1,table2,table3)"
   ]
  },
  {
   "cell_type": "code",
   "execution_count": null,
   "metadata": {},
   "outputs": [],
   "source": [
    "# Add statements with confidence value\n",
    "for idx, r in enumerate(plugin_table):\n",
    "    node = URIRef(\"skg:inference/hasPlugIn/{}\".format(idx))\n",
    "    g.add((node, RDF.type, RDF.Statement))\n",
    "    g.add((node, RDF.subject, URIRef(r[0])))\n",
    "    g.add((node, RDF.predicate ,URIRef(\"schema:softwareAddOn\")))\n",
    "    g.add((node, RDF.object, URIRef(r[1])))\n",
    "    g.add((node, URIRef(\"skgv:confidence\"), Literal(r[2], datatype=XSD.float)))\n",
    "    if float(r[2]) < 1:\n",
    "        print(r)"
   ]
  },
  {
   "cell_type": "code",
   "execution_count": null,
   "metadata": {},
   "outputs": [],
   "source": [
    "# Serialize\n",
    "g.serialize(format=\"json-ld\", context=context, destination=\"softwarekg-plugin-confidence.jsonld\")\n",
    "g = Graph()"
   ]
  },
  {
   "cell_type": "markdown",
   "metadata": {},
   "source": [
    "# Host software of plugIns"
   ]
  },
  {
   "cell_type": "code",
   "execution_count": null,
   "metadata": {},
   "outputs": [],
   "source": [
    "q1='''\n",
    "PREFIX schema: <http://schema.org/>\n",
    "PREFIX nif: <http://persistence.uni-leipzig.org/nlp2rdf/ontologies/nif-core#>\n",
    "PREFIX skgv: <http://data.gesis.org/softwarekg/vocab/>\n",
    "\n",
    "SELECT ?document ?plugIn ?hostSoftware (COUNT(?hostSoftware) as ?num_mention_per_software_per_plugin_per_document)\n",
    "WHERE\n",
    "{\n",
    "    ?hostMention skgv:software ?hostSoftware .\n",
    "    ?hostMention skgv:referredToByPlugIn ?plugInMention .\n",
    "    ?plugInMention skgv:software ?plugIn .\n",
    "    ?document schema:mentions ?plugInMention .\n",
    "}\n",
    "GROUP BY ?document ?plugIn ?hostSoftware\n",
    "OFFSET {offset}\n",
    "LIMIT {limit}\n",
    "'''\n",
    "table1 = build_table(q1, 1_000_000, ['document','plugIn','hostSoftware',\n",
    "                                     'num_mention_per_software_per_plugin_per_document'])"
   ]
  },
  {
   "cell_type": "code",
   "execution_count": null,
   "metadata": {},
   "outputs": [],
   "source": [
    "q2=\"\"\"\n",
    "PREFIX schema: <http://schema.org/>\n",
    "PREFIX nif: <http://persistence.uni-leipzig.org/nlp2rdf/ontologies/nif-core#>\n",
    "PREFIX skgv: <http://data.gesis.org/softwarekg/vocab/>\n",
    "\n",
    "SELECT ?document ?plugIn (COUNT(?plugIn) AS ?num_mention_per_plugin_per_document)\n",
    "WHERE\n",
    "{\n",
    "    ?plugInMention skgv:software ?plugIn .\n",
    "    ?anyHostMention skgv:referredToByPlugIn ?plugInMention .\n",
    "    ?document schema:mentions ?plugInMention .\n",
    "}\n",
    "GROUP BY ?document ?plugIn\n",
    "OFFSET {offset}\n",
    "LIMIT {limit}\n",
    "\"\"\"\n",
    "table2 = build_table(q2, 1_000_000, ['document','plugIn', 'num_mention_per_plugin_per_document'])"
   ]
  },
  {
   "cell_type": "code",
   "execution_count": null,
   "metadata": {},
   "outputs": [],
   "source": [
    "q3=\"\"\"\n",
    "PREFIX schema: <http://schema.org/>\n",
    "PREFIX nif: <http://persistence.uni-leipzig.org/nlp2rdf/ontologies/nif-core#>\n",
    "PREFIX skgv: <http://data.gesis.org/softwarekg/vocab/>\n",
    "\n",
    "SELECT COUNT(DISTINCT ?document) as ?num_article_with_plugin ?plugIn \n",
    "WHERE\n",
    "{\n",
    "    ?plugInMention skgv:software ?plugIn .\n",
    "    ?someHostMention skgv:referredToByPlugIn ?plugInMention .\n",
    "    ?document schema:mentions ?plugInMention .\n",
    "}\n",
    "GROUP BY  ?plugIn\n",
    "OFFSET {offset}\n",
    "LIMIT {limit}\n",
    "\"\"\"\n",
    "table3 = build_table(q3, 1_000_000, ['plugIn','num_article_with_plugin'])"
   ]
  },
  {
   "cell_type": "code",
   "execution_count": null,
   "metadata": {},
   "outputs": [],
   "source": [
    "host_table = workflow(table1,table2,table3)"
   ]
  },
  {
   "cell_type": "code",
   "execution_count": null,
   "metadata": {},
   "outputs": [],
   "source": [
    "# Add statements with confidence value\n",
    "g = Graph()\n",
    "for idx, r in enumerate(host_table):\n",
    "    node = URIRef(\"skg:inference/hasHostSoftware/{}\".format(idx))\n",
    "    g.add((node, RDF.type, RDF.Statement))\n",
    "    g.add((node, RDF.subject, URIRef(r[0])))\n",
    "    g.add((node, RDF.predicate ,URIRef(\"irao:isPartOfSystem\")))\n",
    "    g.add((node, RDF.object, URIRef(r[1])))\n",
    "    g.add((node, URIRef(\"skgv:confidence\"), Literal(r[2], datatype=XSD.float)))\n",
    "    if float(r[2]) < 1:\n",
    "        print(r)"
   ]
  },
  {
   "cell_type": "code",
   "execution_count": null,
   "metadata": {},
   "outputs": [],
   "source": [
    "# Serialize\n",
    "g.serialize(format=\"json-ld\", context=context, destination=\"softwarekg-hostsoftware-confidence.jsonld\")\n",
    "g = Graph()"
   ]
  },
  {
   "cell_type": "markdown",
   "metadata": {},
   "source": [
    "# Software names"
   ]
  },
  {
   "cell_type": "code",
   "execution_count": null,
   "metadata": {},
   "outputs": [],
   "source": [
    "q1='''\n",
    "PREFIX schema: <http://schema.org/>\n",
    "PREFIX nif: <http://persistence.uni-leipzig.org/nlp2rdf/ontologies/nif-core#>\n",
    "PREFIX skgv: <http://data.gesis.org/softwarekg/vocab/>\n",
    "\n",
    "SELECT ?document ?software ?spelling (COUNT(?spelling) as ?num_mention_per_spelling_per_software_per_document)\n",
    "WHERE\n",
    "{\n",
    "    ?mention skgv:software ?software .\n",
    "    ?mention nif:isString ?spelling .\n",
    "    ?document schema:mentions ?mention .\n",
    "}\n",
    "GROUP BY ?document ?software ?spelling\n",
    "OFFSET {offset}\n",
    "LIMIT {limit}\n",
    "'''\n",
    "table1 = build_table(q1, 1_000_000, ['document','software','spelling',\n",
    "                                     'num_mention_per_spelling_per_software_per_document'])"
   ]
  },
  {
   "cell_type": "code",
   "execution_count": null,
   "metadata": {},
   "outputs": [],
   "source": [
    "q2=\"\"\"\n",
    "PREFIX schema: <http://schema.org/>\n",
    "PREFIX nif: <http://persistence.uni-leipzig.org/nlp2rdf/ontologies/nif-core#>\n",
    "PREFIX skgv: <http://data.gesis.org/softwarekg/vocab/>\n",
    "\n",
    "SELECT ?document ?software (COUNT(?software) AS ?num_mention_per_software_per_document)\n",
    "WHERE\n",
    "{\n",
    "    ?mention skgv:software ?software .\n",
    "    ?document schema:mentions ?mention .\n",
    "}\n",
    "GROUP BY ?document ?software\n",
    "OFFSET {offset}\n",
    "LIMIT {limit}\n",
    "\"\"\"\n",
    "table2 = build_table(q2, 1_000_000, ['document','software', 'num_mention_per_software_per_document'])"
   ]
  },
  {
   "cell_type": "code",
   "execution_count": null,
   "metadata": {},
   "outputs": [],
   "source": [
    "q3=\"\"\"\n",
    "PREFIX schema: <http://schema.org/>\n",
    "PREFIX nif: <http://persistence.uni-leipzig.org/nlp2rdf/ontologies/nif-core#>\n",
    "PREFIX skgv: <http://data.gesis.org/softwarekg/vocab/>\n",
    "\n",
    "SELECT COUNT(DISTINCT ?document) as ?num_article_with_software ?software \n",
    "WHERE\n",
    "{\n",
    "    ?mention skgv:software ?software .\n",
    "    ?document schema:mentions ?mention .\n",
    "}\n",
    "GROUP BY  ?software\n",
    "OFFSET {offset}\n",
    "LIMIT {limit}\n",
    "\"\"\"\n",
    "table3 = build_table(q3, 1_000_000, ['software','num_article_with_software'])"
   ]
  },
  {
   "cell_type": "code",
   "execution_count": null,
   "metadata": {},
   "outputs": [],
   "source": [
    "swname_table = workflow(table1,table2,table3)"
   ]
  },
  {
   "cell_type": "code",
   "execution_count": null,
   "metadata": {},
   "outputs": [],
   "source": [
    "# Add statements with confidence value\n",
    "g=Graph()\n",
    "for idx, r in enumerate(swname_table):\n",
    "    node = URIRef(\"skg:inference/softwareName/{}\".format(idx))\n",
    "    g.add((node, RDF.type, RDF.Statement))\n",
    "    g.add((node, RDF.subject, URIRef(r[0])))\n",
    "    g.add((node, RDF.predicate ,URIRef(\"schema:name\")))\n",
    "    g.add((node, RDF.object, Literal(r[1])))\n",
    "    g.add((node, URIRef(\"skgv:confidence\"), Literal(r[2], datatype=XSD.float)))\n",
    "    if float(r[2]) < 1.0:\n",
    "        print(r)\n",
    "    "
   ]
  },
  {
   "cell_type": "code",
   "execution_count": null,
   "metadata": {},
   "outputs": [],
   "source": [
    "# Serialize\n",
    "g.serialize(format=\"json-ld\", context=context, destination=\"softwarekg-sw-names-confidence.jsonld\")\n",
    "g = Graph()"
   ]
  },
  {
   "cell_type": "markdown",
   "metadata": {},
   "source": [
    "# Developers"
   ]
  },
  {
   "cell_type": "code",
   "execution_count": null,
   "metadata": {},
   "outputs": [],
   "source": [
    "q1=\"\"\"\n",
    "PREFIX schema: <http://schema.org/>\n",
    "PREFIX nif: <http://persistence.uni-leipzig.org/nlp2rdf/ontologies/nif-core#>\n",
    "PREFIX skgv: <http://data.gesis.org/softwarekg/vocab/>\n",
    "\n",
    "SELECT ?document ?software ?developer (COUNT(?developer) as ?num_mention_per_developer_per_software_per_document)\n",
    "WHERE\n",
    "{\n",
    "    ?mention skgv:referredToByDeveloper ?dev_mention .\n",
    "    ?dev_mention nif:isString ?developer .\n",
    "    ?mention skgv:software ?software .\n",
    "    ?document schema:mentions ?mention .\n",
    "}\n",
    "GROUP BY ?document ?software ?developer\n",
    "OFFSET {offset}\n",
    "LIMIT {limit}\n",
    "\"\"\"\n",
    "\n",
    "table1 = build_table(q1, 1_000_000, ['document','software','developer',\n",
    "                                     'num_mention_per_developer_per_software_per_document'])"
   ]
  },
  {
   "cell_type": "code",
   "execution_count": null,
   "metadata": {},
   "outputs": [],
   "source": [
    "q2=\"\"\"\n",
    "PREFIX schema: <http://schema.org/>\n",
    "PREFIX nif: <http://persistence.uni-leipzig.org/nlp2rdf/ontologies/nif-core#>\n",
    "PREFIX skgv: <http://data.gesis.org/softwarekg/vocab/>\n",
    "\n",
    "SELECT ?document ?software (COUNT(?software) AS ?num_mention_per_software_per_document)\n",
    "WHERE\n",
    "{\n",
    "    ?mention skgv:referredToByDeveloper ?dev_mention .\n",
    "    ?mention skgv:software ?software .\n",
    "    ?document schema:mentions ?mention .\n",
    "}\n",
    "GROUP BY ?document ?software\n",
    "OFFSET {offset}\n",
    "LIMIT {limit}\n",
    "\"\"\"\n",
    "table2 = build_table(q2, 1_000_000, ['document','software', 'num_mention_per_software_per_document'])"
   ]
  },
  {
   "cell_type": "code",
   "execution_count": null,
   "metadata": {},
   "outputs": [],
   "source": [
    "q3=\"\"\"\n",
    "PREFIX schema: <http://schema.org/>\n",
    "PREFIX nif: <http://persistence.uni-leipzig.org/nlp2rdf/ontologies/nif-core#>\n",
    "PREFIX skgv: <http://data.gesis.org/softwarekg/vocab/>\n",
    "\n",
    "SELECT COUNT(DISTINCT ?document) as ?num_article_with_software ?software \n",
    "WHERE\n",
    "{\n",
    "    ?mention skgv:referredToByDeveloper ?dev_mention .\n",
    "    ?mention skgv:software ?software .\n",
    "    ?document schema:mentions ?mention .\n",
    "}\n",
    "GROUP BY  ?software\n",
    "OFFSET {offset}\n",
    "LIMIT {limit}\n",
    "\"\"\"\n",
    "table3 = build_table(q3, 1_000_000, ['software','num_article_with_software'])"
   ]
  },
  {
   "cell_type": "code",
   "execution_count": null,
   "metadata": {},
   "outputs": [],
   "source": [
    "dev_table = workflow(table1,table2,table3)"
   ]
  },
  {
   "cell_type": "code",
   "execution_count": null,
   "metadata": {},
   "outputs": [],
   "source": [
    "# Add statements with confidence value\n",
    "g=Graph()\n",
    "for idx, r in enumerate(dev_table):\n",
    "    dev_id = \"skg:developer/{}\".format(idx)\n",
    "    g.add((URIRef(dev_id), RDF.type, URIRef(\"schema:Organization\")))\n",
    "    g.add((URIRef(dev_id), URIRef(\"schema:name\"), Literal(r[1])))\n",
    "    node = URIRef(\"skg:inference/developer/{}\".format(idx))\n",
    "    g.add((node, RDF.type, RDF.Statement))\n",
    "    g.add((node, RDF.subject, URIRef(r[0])))\n",
    "    g.add((node, RDF.predicate ,URIRef(\"schema:developer\")))\n",
    "    g.add((node, RDF.object, URIRef(dev_id)))\n",
    "    g.add((node, URIRef(\"skgv:confidence\"), Literal(r[2], datatype=XSD.float)))\n",
    "    if float(r[2]) < 1:\n",
    "        print(r)  "
   ]
  },
  {
   "cell_type": "code",
   "execution_count": null,
   "metadata": {},
   "outputs": [],
   "source": [
    "# Serialize\n",
    "g.serialize(format=\"json-ld\", context=context, destination=\"softwarekg-developers-confidence.jsonld\")\n",
    "g = Graph()"
   ]
  },
  {
   "cell_type": "markdown",
   "metadata": {},
   "source": [
    "# Versions"
   ]
  },
  {
   "cell_type": "code",
   "execution_count": null,
   "metadata": {},
   "outputs": [],
   "source": [
    "# Lift versions (no confidence scores here)\n",
    "version_query = \"\"\"\n",
    "        PREFIX schema: <http://schema.org/>\n",
    "        PREFIX nif: <http://persistence.uni-leipzig.org/nlp2rdf/ontologies/nif-core#>\n",
    "        PREFIX skgv: <http://data.gesis.org/softwarekg/vocab/>\n",
    "        \n",
    "        SELECT \n",
    "            ?software ?version\n",
    "        WHERE\n",
    "        {\n",
    "            ?mention skgv:referredToByVersion ?version_mention .\n",
    "            ?version_mention nif:isString ?version .\n",
    "            ?mention skgv:software ?software\n",
    "        }\n",
    "        GROUP BY ?software ?version\n",
    "\"\"\"\n",
    "print(time.ctime())\n",
    "start = time.time()\n",
    "versions = exec_query(version_query)\n",
    "end = time.time()\n",
    "print(time.ctime())\n",
    "print('{:5.3f}s'.format(end-start), end='  ')\n",
    "\n",
    "\n",
    "if False:\n",
    "    for result in versions[\"results\"][\"bindings\"]:\n",
    "        print(result[\"software\"][\"value\"])\n",
    "        print(result[\"version\"][\"value\"])\n",
    "    "
   ]
  },
  {
   "cell_type": "code",
   "execution_count": null,
   "metadata": {},
   "outputs": [],
   "source": [
    "# Add statements to graph\n",
    "for idx, r in enumerate(versions[\"results\"][\"bindings\"]):\n",
    "    ver_id = \"skg:version/{}\".format(idx)\n",
    "    g.add((URIRef(ver_id), URIRef(\"schema:name\"), Literal(r['version']['value'])))\n",
    "    g.add((URIRef(ver_id), RDF.type, URIRef(\"skgv:SoftwareVersion\")))\n",
    "    g.add((URIRef(r['software']['value']), URIRef(\"skgv:hasVersion\"), URIRef(ver_id)))"
   ]
  },
  {
   "cell_type": "code",
   "execution_count": null,
   "metadata": {},
   "outputs": [],
   "source": [
    "# Serialize\n",
    "g.serialize(format=\"json-ld\", context=context, destination=\"softwarekg-versions.jsonld\")\n",
    "g = Graph()"
   ]
  },
  {
   "cell_type": "markdown",
   "metadata": {},
   "source": [
    "# Licenses"
   ]
  },
  {
   "cell_type": "code",
   "execution_count": null,
   "metadata": {},
   "outputs": [],
   "source": [
    "q1=\"\"\"\n",
    "PREFIX schema: <http://schema.org/>\n",
    "PREFIX nif: <http://persistence.uni-leipzig.org/nlp2rdf/ontologies/nif-core#>\n",
    "PREFIX skgv: <http://data.gesis.org/softwarekg/vocab/>\n",
    "\n",
    "SELECT ?document ?software ?license (COUNT(?license) as ?num_mention_per_license_per_software_per_document)\n",
    "WHERE\n",
    "{\n",
    "    ?mention skgv:referredToByLicense ?license_mention .\n",
    "    ?license_mention nif:isString ?license .\n",
    "    ?mention skgv:software ?software .\n",
    "    ?document schema:mentions ?mention .\n",
    "}\n",
    "GROUP BY ?document ?software ?license\n",
    "OFFSET {offset}\n",
    "LIMIT {limit}\n",
    "\"\"\"\n",
    "\n",
    "table1 = build_table(q1, 1_000_000, ['document','software','license',\n",
    "                                     'num_mention_per_license_per_software_per_document'])"
   ]
  },
  {
   "cell_type": "code",
   "execution_count": null,
   "metadata": {},
   "outputs": [],
   "source": [
    "q2=\"\"\"\n",
    "PREFIX schema: <http://schema.org/>\n",
    "PREFIX nif: <http://persistence.uni-leipzig.org/nlp2rdf/ontologies/nif-core#>\n",
    "PREFIX skgv: <http://data.gesis.org/softwarekg/vocab/>\n",
    "\n",
    "SELECT ?document ?software (COUNT(?software) AS ?num_mention_per_software_per_document)\n",
    "WHERE\n",
    "{\n",
    "    ?mention skgv:referredToByLicense ?license_mention .\n",
    "    ?mention skgv:software ?software .\n",
    "    ?document schema:mentions ?mention .\n",
    "}\n",
    "GROUP BY ?document ?software\n",
    "OFFSET {offset}\n",
    "LIMIT {limit}\n",
    "\"\"\"\n",
    "table2 = build_table(q2, 1_000_000, ['document','software', 'num_mention_per_software_per_document'])"
   ]
  },
  {
   "cell_type": "code",
   "execution_count": null,
   "metadata": {},
   "outputs": [],
   "source": [
    "q3=\"\"\"\n",
    "PREFIX schema: <http://schema.org/>\n",
    "PREFIX nif: <http://persistence.uni-leipzig.org/nlp2rdf/ontologies/nif-core#>\n",
    "PREFIX skgv: <http://data.gesis.org/softwarekg/vocab/>\n",
    "\n",
    "SELECT COUNT(DISTINCT ?document) as ?num_article_with_software ?software \n",
    "WHERE\n",
    "{\n",
    "    ?mention skgv:referredToByLicense ?license_mention .\n",
    "    ?mention skgv:software ?software .\n",
    "    ?document schema:mentions ?mention .\n",
    "}\n",
    "GROUP BY  ?software\n",
    "OFFSET {offset}\n",
    "LIMIT {limit}\n",
    "\"\"\"\n",
    "table3 = build_table(q3, 1_000_000, ['software','num_article_with_software'])"
   ]
  },
  {
   "cell_type": "code",
   "execution_count": null,
   "metadata": {},
   "outputs": [],
   "source": [
    "license_table = workflow(table1,table2,table3)"
   ]
  },
  {
   "cell_type": "code",
   "execution_count": null,
   "metadata": {},
   "outputs": [],
   "source": [
    "# Add document resources and statements with confidence value\n",
    "for idx, r in enumerate(license_table):\n",
    "    license_id = \"skg:license/{}\".format(idx)  \n",
    "    g.add((URIRef(license_id), RDF.type, URIRef(\"dct:LicenseDocument\")))\n",
    "    g.add((URIRef(license_id), URIRef(\"schema:name\"), Literal(r[1])))\n",
    "    node = URIRef(\"skg:inference/license/{}\".format(idx))\n",
    "    g.add((node, RDF.type, RDF.Statement))\n",
    "    g.add((node, RDF.subject, URIRef(r[0])))\n",
    "    g.add((node, RDF.predicate ,URIRef(\"dct:license\")))\n",
    "    g.add((node, RDF.object, URIRef(license_id)))\n",
    "    g.add((node, URIRef(\"skgv:confidence\"), Literal(r[2], datatype=XSD.float)))\n",
    "    if float(r[2]) < 1:\n",
    "        print(r)    "
   ]
  },
  {
   "cell_type": "code",
   "execution_count": null,
   "metadata": {},
   "outputs": [],
   "source": [
    "# Serialize\n",
    "g.serialize(format=\"json-ld\", context=context, destination=\"softwarekg-licenses-confidence.jsonld\")\n",
    "g = Graph()"
   ]
  },
  {
   "cell_type": "markdown",
   "metadata": {},
   "source": [
    "# Alternative name"
   ]
  },
  {
   "cell_type": "code",
   "execution_count": null,
   "metadata": {},
   "outputs": [],
   "source": [
    "q1=\"\"\"\n",
    "PREFIX schema: <http://schema.org/>\n",
    "PREFIX nif: <http://persistence.uni-leipzig.org/nlp2rdf/ontologies/nif-core#>\n",
    "PREFIX skgv: <http://data.gesis.org/softwarekg/vocab/>\n",
    "\n",
    "SELECT ?document ?software ?spelling (COUNT(?spelling) as ?num_mention_per_spelling_per_software_per_document)\n",
    "WHERE\n",
    "{\n",
    "    ?mention skgv:software ?software .\n",
    "    ?mention skgv:referredToByAlternativeName ?altm .\n",
    "    ?altm nif:isString ?spelling .\n",
    "    ?document schema:mentions ?mention .\n",
    "}\n",
    "GROUP BY ?document ?software ?spelling\n",
    "OFFSET {offset}\n",
    "LIMIT {limit}\n",
    "\"\"\"\n",
    "\n",
    "table1 = build_table(q1, 1_000_000, ['document','software','spelling',\n",
    "                                     'num_mention_per_spelling_per_software_per_document'])"
   ]
  },
  {
   "cell_type": "code",
   "execution_count": null,
   "metadata": {},
   "outputs": [],
   "source": [
    "q2=\"\"\"\n",
    "PREFIX schema: <http://schema.org/>\n",
    "PREFIX nif: <http://persistence.uni-leipzig.org/nlp2rdf/ontologies/nif-core#>\n",
    "PREFIX skgv: <http://data.gesis.org/softwarekg/vocab/>\n",
    "\n",
    "SELECT ?document ?software (COUNT(?software) AS ?num_mention_per_software_per_document)\n",
    "WHERE\n",
    "{\n",
    "    ?mention skgv:software ?software .\n",
    "    ?mention skgv:referredToByAlternativeName ?altm .\n",
    "    ?document schema:mentions ?mention .\n",
    "}\n",
    "GROUP BY ?document ?software\n",
    "OFFSET {offset}\n",
    "LIMIT {limit}\n",
    "\"\"\"\n",
    "table2 = build_table(q2, 1_000_000, ['document','software', 'num_mention_per_software_per_document'])"
   ]
  },
  {
   "cell_type": "code",
   "execution_count": null,
   "metadata": {},
   "outputs": [],
   "source": [
    "q3=\"\"\"\n",
    "PREFIX schema: <http://schema.org/>\n",
    "PREFIX nif: <http://persistence.uni-leipzig.org/nlp2rdf/ontologies/nif-core#>\n",
    "PREFIX skgv: <http://data.gesis.org/softwarekg/vocab/>\n",
    "\n",
    "SELECT COUNT(DISTINCT ?document) as ?num_article_with_software ?software \n",
    "WHERE\n",
    "{\n",
    "    ?mention skgv:software ?software .\n",
    "    ?mention skgv:referredToByAlternativeName ?altm .\n",
    "    ?document schema:mentions ?mention .\n",
    "}\n",
    "GROUP BY  ?software\n",
    "OFFSET {offset}\n",
    "LIMIT {limit}\n",
    "\"\"\"\n",
    "table3 = build_table(q3, 1_000_000, ['software','num_article_with_software'])"
   ]
  },
  {
   "cell_type": "code",
   "execution_count": null,
   "metadata": {},
   "outputs": [],
   "source": [
    "altname_table = workflow(table1,table2,table3)"
   ]
  },
  {
   "cell_type": "code",
   "execution_count": null,
   "metadata": {},
   "outputs": [],
   "source": [
    "# Add statements with confidence value\n",
    "for idx, r in enumerate(altname_table):\n",
    "    #print(r)\n",
    "    node = URIRef(\"skg:inference/alternativeName/{}\".format(idx))\n",
    "    g.add((node, RDF.type, RDF.Statement))\n",
    "    g.add((node, RDF.subject, URIRef(r[0])))\n",
    "    g.add((node, RDF.predicate ,URIRef(\"schema:alternateName\")))\n",
    "    g.add((node, RDF.object, Literal(r[1])))\n",
    "    g.add((node, URIRef(\"skgv:confidence\"), Literal(r[2], datatype=XSD.float)))\n",
    "    if float(r[2]) < 1:\n",
    "        print(r)   "
   ]
  },
  {
   "cell_type": "code",
   "execution_count": null,
   "metadata": {},
   "outputs": [],
   "source": [
    "# Serialize\n",
    "g.serialize(format=\"json-ld\", context=context, destination=\"softwarekg-alt-names-confidence.jsonld\")\n",
    "g = Graph()"
   ]
  },
  {
   "cell_type": "markdown",
   "metadata": {},
   "source": [
    "# Abbreviation"
   ]
  },
  {
   "cell_type": "code",
   "execution_count": null,
   "metadata": {},
   "outputs": [],
   "source": [
    "q1=\"\"\"\n",
    "PREFIX schema: <http://schema.org/>\n",
    "PREFIX nif: <http://persistence.uni-leipzig.org/nlp2rdf/ontologies/nif-core#>\n",
    "PREFIX skgv: <http://data.gesis.org/softwarekg/vocab/>\n",
    "\n",
    "SELECT ?document ?software ?spelling (COUNT(?spelling) as ?num_mention_per_spelling_per_software_per_document)\n",
    "WHERE\n",
    "{\n",
    "    ?mention skgv:software ?software .\n",
    "    ?mention skgv:referredToByAbbreviation ?abbrevm .\n",
    "    ?abbrevm nif:isString ?spelling .\n",
    "    ?document schema:mentions ?mention .\n",
    "}\n",
    "GROUP BY ?document ?software ?spelling\n",
    "OFFSET {offset}\n",
    "LIMIT {limit}\n",
    "\"\"\"\n",
    "\n",
    "table1 = build_table(q1, 1_000_000, ['document','software','spelling',\n",
    "                                     'num_mention_per_spelling_per_software_per_document'])"
   ]
  },
  {
   "cell_type": "code",
   "execution_count": null,
   "metadata": {},
   "outputs": [],
   "source": [
    "q2=\"\"\"\n",
    "PREFIX schema: <http://schema.org/>\n",
    "PREFIX nif: <http://persistence.uni-leipzig.org/nlp2rdf/ontologies/nif-core#>\n",
    "PREFIX skgv: <http://data.gesis.org/softwarekg/vocab/>\n",
    "\n",
    "SELECT ?document ?software (COUNT(?software) AS ?num_mention_per_software_per_document)\n",
    "WHERE\n",
    "{\n",
    "    ?mention skgv:software ?software .\n",
    "    ?mention skgv:referredToByAbbreviation ?abbrevm .\n",
    "    ?document schema:mentions ?mention .\n",
    "}\n",
    "GROUP BY ?document ?software\n",
    "OFFSET {offset}\n",
    "LIMIT {limit}\n",
    "\"\"\"\n",
    "table2 = build_table(q2, 1_000_000, ['document','software', 'num_mention_per_software_per_document'])"
   ]
  },
  {
   "cell_type": "code",
   "execution_count": null,
   "metadata": {},
   "outputs": [],
   "source": [
    "q3=\"\"\"\n",
    "PREFIX schema: <http://schema.org/>\n",
    "PREFIX nif: <http://persistence.uni-leipzig.org/nlp2rdf/ontologies/nif-core#>\n",
    "PREFIX skgv: <http://data.gesis.org/softwarekg/vocab/>\n",
    "\n",
    "SELECT COUNT(DISTINCT ?document) as ?num_article_with_software ?software \n",
    "WHERE\n",
    "{\n",
    "    ?mention skgv:software ?software .\n",
    "    ?mention skgv:referredToByAbbreviation ?abbrevm .\n",
    "    ?document schema:mentions ?mention .\n",
    "}\n",
    "GROUP BY  ?software\n",
    "OFFSET {offset}\n",
    "LIMIT {limit}\n",
    "\"\"\"\n",
    "table3 = build_table(q3, 1_000_000, ['software','num_article_with_software'])"
   ]
  },
  {
   "cell_type": "code",
   "execution_count": null,
   "metadata": {},
   "outputs": [],
   "source": [
    "abbr_table = workflow(table1,table2,table3)"
   ]
  },
  {
   "cell_type": "code",
   "execution_count": null,
   "metadata": {},
   "outputs": [],
   "source": [
    "# Add statements with confidence value\n",
    "for idx, r in enumerate(abbr_table):\n",
    "    node = URIRef(\"skg:inference/abbreviation/{}\".format(idx))\n",
    "    g.add((node, RDF.type, RDF.Statement))\n",
    "    g.add((node, RDF.subject, URIRef(r[0])))\n",
    "    g.add((node, RDF.predicate ,URIRef(\"skgv:abbreviation\")))\n",
    "    g.add((node, RDF.object, Literal(r[1])))\n",
    "    g.add((node, URIRef(\"skgv:confidence\"), Literal(r[2], datatype=XSD.float)))\n",
    "    if float(r[2]) < 1:\n",
    "        print(r)   "
   ]
  },
  {
   "cell_type": "code",
   "execution_count": null,
   "metadata": {},
   "outputs": [],
   "source": [
    "# Serialize\n",
    "g.serialize(format=\"json-ld\", context=context, destination=\"softwarekg-abbreviations-confidence.jsonld\")\n",
    "g = Graph()"
   ]
  },
  {
   "cell_type": "markdown",
   "metadata": {},
   "source": [
    "# Citation"
   ]
  },
  {
   "cell_type": "code",
   "execution_count": null,
   "metadata": {},
   "outputs": [],
   "source": [
    "# Not applicable"
   ]
  },
  {
   "cell_type": "markdown",
   "metadata": {},
   "source": [
    "# Extension"
   ]
  },
  {
   "cell_type": "code",
   "execution_count": null,
   "metadata": {},
   "outputs": [],
   "source": [
    "q1=\"\"\"\n",
    "PREFIX schema: <http://schema.org/>\n",
    "PREFIX nif: <http://persistence.uni-leipzig.org/nlp2rdf/ontologies/nif-core#>\n",
    "PREFIX skgv: <http://data.gesis.org/softwarekg/vocab/>\n",
    "\n",
    "SELECT ?document ?software ?spelling (COUNT(?spelling) as ?num_mention_per_spelling_per_software_per_document)\n",
    "WHERE\n",
    "{\n",
    "    ?mention skgv:software ?software .\n",
    "    ?mention skgv:referredToByExtension ?extm .\n",
    "    ?extm nif:isString ?spelling .\n",
    "    ?document schema:mentions ?mention .\n",
    "}\n",
    "GROUP BY ?document ?software ?spelling\n",
    "OFFSET {offset}\n",
    "LIMIT {limit}\n",
    "\"\"\"\n",
    "\n",
    "table1 = build_table(q1, 1_000_000, ['document','software','spelling',\n",
    "                                     'num_mention_per_spelling_per_software_per_document'])"
   ]
  },
  {
   "cell_type": "code",
   "execution_count": null,
   "metadata": {},
   "outputs": [],
   "source": [
    "q2=\"\"\"\n",
    "PREFIX schema: <http://schema.org/>\n",
    "PREFIX nif: <http://persistence.uni-leipzig.org/nlp2rdf/ontologies/nif-core#>\n",
    "PREFIX skgv: <http://data.gesis.org/softwarekg/vocab/>\n",
    "\n",
    "SELECT ?document ?software (COUNT(?software) AS ?num_mention_per_software_per_document)\n",
    "WHERE\n",
    "{\n",
    "    ?mention skgv:software ?software .\n",
    "    ?mention skgv:referredToByExtension ?extm .\n",
    "    ?document schema:mentions ?mention .\n",
    "}\n",
    "GROUP BY ?document ?software\n",
    "OFFSET {offset}\n",
    "LIMIT {limit}\n",
    "\"\"\"\n",
    "table2 = build_table(q2, 1_000_000, ['document','software', 'num_mention_per_software_per_document'])"
   ]
  },
  {
   "cell_type": "code",
   "execution_count": null,
   "metadata": {},
   "outputs": [],
   "source": [
    "q3=\"\"\"\n",
    "PREFIX schema: <http://schema.org/>\n",
    "PREFIX nif: <http://persistence.uni-leipzig.org/nlp2rdf/ontologies/nif-core#>\n",
    "PREFIX skgv: <http://data.gesis.org/softwarekg/vocab/>\n",
    "\n",
    "SELECT COUNT(DISTINCT ?document) as ?num_article_with_software ?software \n",
    "WHERE\n",
    "{\n",
    "    ?mention skgv:software ?software .\n",
    "    ?mention skgv:referredToByExtension ?extm .\n",
    "    ?document schema:mentions ?mention .\n",
    "}\n",
    "GROUP BY  ?software\n",
    "OFFSET {offset}\n",
    "LIMIT {limit}\n",
    "\"\"\"\n",
    "table3 = build_table(q3, 1_000_000, ['software','num_article_with_software'])"
   ]
  },
  {
   "cell_type": "code",
   "execution_count": null,
   "metadata": {},
   "outputs": [],
   "source": [
    "ext_table = workflow(table1,table2,table3)"
   ]
  },
  {
   "cell_type": "code",
   "execution_count": null,
   "metadata": {},
   "outputs": [],
   "source": [
    "# Add statements with confidence value\n",
    "for idx, r in enumerate(ext_table):\n",
    "    node = URIRef(\"skg:inference/extension/{}\".format(idx))\n",
    "    g.add((node, RDF.type, RDF.Statement))\n",
    "    g.add((node, RDF.subject, URIRef(r[0])))\n",
    "    g.add((node, RDF.predicate ,URIRef(\"skgv:hasExtension\")))\n",
    "    g.add((node, RDF.object, Literal(r[1])))\n",
    "    g.add((node, URIRef(\"skgv:confidence\"), Literal(r[2], datatype=XSD.float)))\n",
    "    if float(r[2]) < 1:\n",
    "        print(r)   "
   ]
  },
  {
   "cell_type": "code",
   "execution_count": null,
   "metadata": {},
   "outputs": [],
   "source": [
    "# Serialize\n",
    "g.serialize(format=\"json-ld\", context=context, destination=\"softwarekg-extensions-confidence.jsonld\")\n",
    "g = Graph()"
   ]
  },
  {
   "cell_type": "markdown",
   "metadata": {},
   "source": [
    "# URL"
   ]
  },
  {
   "cell_type": "code",
   "execution_count": null,
   "metadata": {},
   "outputs": [],
   "source": [
    "q1=\"\"\"\n",
    "PREFIX schema: <http://schema.org/>\n",
    "PREFIX nif: <http://persistence.uni-leipzig.org/nlp2rdf/ontologies/nif-core#>\n",
    "PREFIX skgv: <http://data.gesis.org/softwarekg/vocab/>\n",
    "\n",
    "SELECT ?document ?software ?spelling (COUNT(?spelling) as ?num_mention_per_spelling_per_software_per_document)\n",
    "WHERE\n",
    "{\n",
    "    ?mention skgv:software ?software .\n",
    "    ?mention skgv:referredToByURL ?urlm .\n",
    "    ?urlm nif:isString ?spelling .\n",
    "    ?document schema:mentions ?mention .\n",
    "}\n",
    "GROUP BY ?document ?software ?spelling\n",
    "OFFSET {offset}\n",
    "LIMIT {limit}\n",
    "\"\"\"\n",
    "\n",
    "table1 = build_table(q1, 1_000_000, ['document','software','spelling',\n",
    "                                     'num_mention_per_spelling_per_software_per_document'])"
   ]
  },
  {
   "cell_type": "code",
   "execution_count": null,
   "metadata": {},
   "outputs": [],
   "source": [
    "q2=\"\"\"\n",
    "PREFIX schema: <http://schema.org/>\n",
    "PREFIX nif: <http://persistence.uni-leipzig.org/nlp2rdf/ontologies/nif-core#>\n",
    "PREFIX skgv: <http://data.gesis.org/softwarekg/vocab/>\n",
    "\n",
    "SELECT ?document ?software (COUNT(?software) AS ?num_mention_per_software_per_document)\n",
    "WHERE\n",
    "{\n",
    "    ?mention skgv:software ?software .\n",
    "    ?mention skgv:referredToByURL ?urlm .\n",
    "    ?document schema:mentions ?mention .\n",
    "}\n",
    "GROUP BY ?document ?software\n",
    "OFFSET {offset}\n",
    "LIMIT {limit}\n",
    "\"\"\"\n",
    "table2 = build_table(q2, 1_000_000, ['document','software', 'num_mention_per_software_per_document'])"
   ]
  },
  {
   "cell_type": "code",
   "execution_count": null,
   "metadata": {},
   "outputs": [],
   "source": [
    "q3=\"\"\"\n",
    "PREFIX schema: <http://schema.org/>\n",
    "PREFIX nif: <http://persistence.uni-leipzig.org/nlp2rdf/ontologies/nif-core#>\n",
    "PREFIX skgv: <http://data.gesis.org/softwarekg/vocab/>\n",
    "\n",
    "SELECT COUNT(DISTINCT ?document) as ?num_article_with_software ?software \n",
    "WHERE\n",
    "{\n",
    "    ?mention skgv:software ?software .\n",
    "    ?mention skgv:referredToByURL ?urlm .\n",
    "    ?document schema:mentions ?mention .\n",
    "}\n",
    "GROUP BY  ?software\n",
    "OFFSET {offset}\n",
    "LIMIT {limit}\n",
    "\"\"\"\n",
    "table3 = build_table(q3, 1_000_000, ['software','num_article_with_software'])"
   ]
  },
  {
   "cell_type": "code",
   "execution_count": null,
   "metadata": {},
   "outputs": [],
   "source": [
    "url_table = workflow(table1,table2,table3)"
   ]
  },
  {
   "cell_type": "code",
   "execution_count": null,
   "metadata": {},
   "outputs": [],
   "source": [
    "# Add statements with confidence value\n",
    "for idx, r in enumerate(url_table):\n",
    "    node = URIRef(\"skg:inference/url/{}\".format(idx))\n",
    "    g.add((node, RDF.type, RDF.Statement))\n",
    "    g.add((node, RDF.subject, URIRef(r[0])))\n",
    "    g.add((node, RDF.predicate ,URIRef(\"skgv:hasURL\")))\n",
    "    g.add((node, RDF.object, Literal(r[1])))\n",
    "    g.add((node, URIRef(\"skgv:confidence\"), Literal(r[2], datatype=XSD.float)))\n",
    "    if float(r[2]) < 1:\n",
    "        print(r)  "
   ]
  },
  {
   "cell_type": "code",
   "execution_count": null,
   "metadata": {},
   "outputs": [],
   "source": [
    "# Serialize\n",
    "g.serialize(format=\"json-ld\", context=context, destination=\"softwarekg-urls-confidence.jsonld\")\n",
    "g = Graph()"
   ]
  },
  {
   "cell_type": "markdown",
   "metadata": {},
   "source": [
    "# Release"
   ]
  },
  {
   "cell_type": "code",
   "execution_count": null,
   "metadata": {},
   "outputs": [],
   "source": [
    "q1=\"\"\"\n",
    "PREFIX schema: <http://schema.org/>\n",
    "PREFIX nif: <http://persistence.uni-leipzig.org/nlp2rdf/ontologies/nif-core#>\n",
    "PREFIX skgv: <http://data.gesis.org/softwarekg/vocab/>\n",
    "\n",
    "SELECT ?document ?software ?spelling (COUNT(?spelling) as ?num_mention_per_spelling_per_software_per_document)\n",
    "WHERE\n",
    "{\n",
    "    ?mention skgv:software ?software .\n",
    "    ?mention skgv:referredToByRelease ?releasem .\n",
    "    ?releasem nif:isString ?spelling .\n",
    "    ?document schema:mentions ?mention .\n",
    "}\n",
    "GROUP BY ?document ?software ?spelling\n",
    "OFFSET {offset}\n",
    "LIMIT {limit}\n",
    "\"\"\"\n",
    "\n",
    "table1 = build_table(q1, 1_000_000, ['document','software','spelling',\n",
    "                                     'num_mention_per_spelling_per_software_per_document'])"
   ]
  },
  {
   "cell_type": "code",
   "execution_count": null,
   "metadata": {},
   "outputs": [],
   "source": [
    "q2=\"\"\"\n",
    "PREFIX schema: <http://schema.org/>\n",
    "PREFIX nif: <http://persistence.uni-leipzig.org/nlp2rdf/ontologies/nif-core#>\n",
    "PREFIX skgv: <http://data.gesis.org/softwarekg/vocab/>\n",
    "\n",
    "SELECT ?document ?software (COUNT(?software) AS ?num_mention_per_software_per_document)\n",
    "WHERE\n",
    "{\n",
    "    ?mention skgv:software ?software .\n",
    "    ?mention skgv:referredToByRelease ?releasem .\n",
    "    ?document schema:mentions ?mention .\n",
    "}\n",
    "GROUP BY ?document ?software\n",
    "OFFSET {offset}\n",
    "LIMIT {limit}\n",
    "\"\"\"\n",
    "table2 = build_table(q2, 1_000_000, ['document','software', 'num_mention_per_software_per_document'])"
   ]
  },
  {
   "cell_type": "code",
   "execution_count": null,
   "metadata": {},
   "outputs": [],
   "source": [
    "q3=\"\"\"\n",
    "PREFIX schema: <http://schema.org/>\n",
    "PREFIX nif: <http://persistence.uni-leipzig.org/nlp2rdf/ontologies/nif-core#>\n",
    "PREFIX skgv: <http://data.gesis.org/softwarekg/vocab/>\n",
    "\n",
    "SELECT COUNT(DISTINCT ?document) as ?num_article_with_software ?software \n",
    "WHERE\n",
    "{\n",
    "    ?mention skgv:software ?software .\n",
    "    ?mention skgv:referredToByRelease ?releasem .\n",
    "    ?document schema:mentions ?mention .\n",
    "}\n",
    "GROUP BY  ?software\n",
    "OFFSET {offset}\n",
    "LIMIT {limit}\n",
    "\"\"\"\n",
    "table3 = build_table(q3, 1_000_000, ['software','num_article_with_software'])"
   ]
  },
  {
   "cell_type": "code",
   "execution_count": null,
   "metadata": {},
   "outputs": [],
   "source": [
    "release_table = workflow(table1,table2,table3)"
   ]
  },
  {
   "cell_type": "code",
   "execution_count": null,
   "metadata": {},
   "outputs": [],
   "source": [
    "# Add statements with confidence value\n",
    "for idx, r in enumerate(release_table):\n",
    "    node = URIRef(\"skg:inference/release/{}\".format(idx))\n",
    "    g.add((node, RDF.type, RDF.Statement))\n",
    "    g.add((node, RDF.subject, URIRef(r[0])))\n",
    "    g.add((node, RDF.predicate ,URIRef(\"skgv:released\")))\n",
    "    g.add((node, RDF.object, Literal(r[1])))\n",
    "    g.add((node, URIRef(\"skgv:confidence\"), Literal(r[2], datatype=XSD.float)))\n",
    "    if float(r[2]) < 1:\n",
    "        print(r)  "
   ]
  },
  {
   "cell_type": "code",
   "execution_count": null,
   "metadata": {},
   "outputs": [],
   "source": [
    "# Serialize\n",
    "g.serialize(format=\"json-ld\", context=context, destination=\"softwarekg-release-confidence.jsonld\")\n",
    "g = Graph()"
   ]
  },
  {
   "cell_type": "code",
   "execution_count": null,
   "metadata": {},
   "outputs": [],
   "source": []
  }
 ],
 "metadata": {
  "interpreter": {
   "hash": "230cf635071c9808c0220ccb44c4f562135dfd3e8a1a5bab0362ea9c7f8ff142"
  },
  "kernelspec": {
   "display_name": "Python 3",
   "language": "python",
   "name": "python3"
  },
  "language_info": {
   "codemirror_mode": {
    "name": "ipython",
    "version": 3
   },
   "file_extension": ".py",
   "mimetype": "text/x-python",
   "name": "python",
   "nbconvert_exporter": "python",
   "pygments_lexer": "ipython3",
   "version": "3.7.4"
  },
  "metadata": {
   "interpreter": {
    "hash": "916dbcbb3f70747c44a77c7bcd40155683ae19c65e1c03b4aa3499c5328201f1"
   }
  }
 },
 "nbformat": 4,
 "nbformat_minor": 2
}
